{
 "cells": [
  {
   "cell_type": "code",
   "execution_count": null,
   "metadata": {},
   "outputs": [],
   "source": [
    "import pandas as pd\n",
    "\n",
    "#Visualizacion del dataser\n",
    "df = pd.read_csv('https://data.nasa.gov/api/views/gh4g-9sfh/rows.csv?accessType=DOWNLOAD')\n",
    "df.to_csv('../Data/raw/Nasa_MeteoriteLanding.csv')\n",
    "df"
   ]
  },
  {
   "cell_type": "code",
   "execution_count": null,
   "metadata": {},
   "outputs": [],
   "source": [
    "#Revision de la informacion \n",
    "df.info()\n",
    "df.describe()"
   ]
  },
  {
   "cell_type": "code",
   "execution_count": null,
   "metadata": {},
   "outputs": [],
   "source": [
    "#Revision de datos nulos\n",
    "df.isna().sum()"
   ]
  },
  {
   "cell_type": "code",
   "execution_count": null,
   "metadata": {},
   "outputs": [],
   "source": [
    "#Eliminacion de datos nulos\n",
    "df.dropna(inplace=True)\n",
    "df.isna().sum()"
   ]
  },
  {
   "cell_type": "code",
   "execution_count": null,
   "metadata": {},
   "outputs": [],
   "source": [
    "#Analisis de Variables Numericas\n",
    "import matplotlib.pyplot as plt\n",
    "import seaborn as sns\n",
    "fig, axis = plt.subplots(2, 4, figsize = (10, 7))\n",
    "\n",
    "sns.histplot(ax = axis[0, 0], data = df, x = \"mass (g)\").set(xlabel = None)\n",
    "sns.boxplot(ax = axis[1, 0], data = df, x = \"mass (g)\")\n",
    "sns.histplot(ax = axis[0, 1], data = df, x = \"year\").set(xlabel = None, ylabel = None)\n",
    "sns.boxplot(ax = axis[1, 1], data = df, x = \"year\")\n",
    "sns.histplot(ax = axis[0, 2], data = df, x = \"reclat\").set(xlabel = None, ylabel = None)\n",
    "sns.boxplot(ax = axis[1, 2], data = df, x = \"reclat\")\n",
    "sns.histplot(ax = axis[0, 3], data = df, x = \"reclong\").set(xlabel = None, ylabel = None)\n",
    "sns.boxplot(ax = axis[1, 3], data = df, x = \"reclong\")\n",
    "\n",
    "plt.tight_layout()\n",
    "plt.show()"
   ]
  }
 ],
 "metadata": {
  "language_info": {
   "name": "python"
  }
 },
 "nbformat": 4,
 "nbformat_minor": 2
}
